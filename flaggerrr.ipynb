{
 "cells": [
  {
   "cell_type": "code",
   "execution_count": null,
   "id": "8dacb6b6",
   "metadata": {},
   "outputs": [
    {
     "name": "stdout",
     "output_type": "stream",
     "text": [
      " * Serving Flask app \"__main__\" (lazy loading)\n",
      " * Environment: production\n",
      "\u001b[31m   WARNING: This is a development server. Do not use it in a production deployment.\u001b[0m\n",
      "\u001b[2m   Use a production WSGI server instead.\u001b[0m\n",
      " * Debug mode: off\n"
     ]
    },
    {
     "name": "stderr",
     "output_type": "stream",
     "text": [
      " * Running on http://127.0.0.1:5000/ (Press CTRL+C to quit)\n",
      "127.0.0.1 - - [16/Jun/2022 08:50:32] \"GET /apidocs HTTP/1.1\" 404 -\n",
      "127.0.0.1 - - [16/Jun/2022 08:51:04] \"GET / HTTP/1.1\" 200 -\n",
      "127.0.0.1 - - [16/Jun/2022 08:51:18] \"GET /apidocs/ HTTP/1.1\" 404 -\n",
      "127.0.0.1 - - [16/Jun/2022 08:51:29] \"GET /apidocs HTTP/1.1\" 404 -\n",
      "127.0.0.1 - - [16/Jun/2022 08:51:29] \"GET /favicon.ico HTTP/1.1\" 404 -\n",
      "127.0.0.1 - - [16/Jun/2022 08:52:44] \"GET / HTTP/1.1\" 200 -\n",
      "127.0.0.1 - - [16/Jun/2022 08:54:00] \"GET /apidocs HTTP/1.1\" 404 -\n",
      "127.0.0.1 - - [16/Jun/2022 08:54:48] \"GET /apidocs/ HTTP/1.1\" 404 -\n",
      "127.0.0.1 - - [16/Jun/2022 08:54:48] \"GET /favicon.ico HTTP/1.1\" 404 -\n",
      "127.0.0.1 - - [16/Jun/2022 08:56:17] \"GET / HTTP/1.1\" 200 -\n",
      "127.0.0.1 - - [16/Jun/2022 08:56:24] \"GET / HTTP/1.1\" 200 -\n",
      "127.0.0.1 - - [16/Jun/2022 08:56:24] \"GET /favicon.ico HTTP/1.1\" 404 -\n",
      "127.0.0.1 - - [16/Jun/2022 08:56:34] \"GET /apidocs/ HTTP/1.1\" 404 -\n"
     ]
    }
   ],
   "source": [
    "import numpy as np\n",
    "import pickle\n",
    "import pandas as pd\n",
    "from flask import Flask, request\n",
    "\n",
    "app=Flask(__name__)\n",
    "pickle_in = open(\"ada.pkl\",\"rb\")\n",
    "classifier=pickle.load(pickle_in)\n",
    "\n",
    "\n",
    "@app.route('/')\n",
    "def hello():\n",
    "    return \"Welcome All to Week-14\"\n",
    "\n",
    "@app.route('/predict')\n",
    "def predict_class():\n",
    "    benign =request.args.get('benign ')\n",
    "    malignant=request.args.get('malignant')\n",
    "    prediction=ada.predict([[benign,malignant]])\n",
    "    return \" The Predicated Class is\"+ str(prediction)\n",
    "\n",
    "@app.route('/predict_test', methods=[\"POST\"])\n",
    "def predict_test_class():\n",
    "    df_test=pd.read_csv(request.files.get(\"file\")) \n",
    "    prediction=classifier.predict(df_test)\n",
    "    return \" The Predicated Class for the TestFile is\"+ str(list(prediction))\n",
    "\n",
    "\n",
    "if __name__=='__main__':\n",
    "    app.run()"
   ]
  },
  {
   "cell_type": "code",
   "execution_count": null,
   "id": "3cb5bbbf",
   "metadata": {},
   "outputs": [],
   "source": []
  }
 ],
 "metadata": {
  "kernelspec": {
   "display_name": "Python 3 (ipykernel)",
   "language": "python",
   "name": "python3"
  },
  "language_info": {
   "codemirror_mode": {
    "name": "ipython",
    "version": 3
   },
   "file_extension": ".py",
   "mimetype": "text/x-python",
   "name": "python",
   "nbconvert_exporter": "python",
   "pygments_lexer": "ipython3",
   "version": "3.9.7"
  }
 },
 "nbformat": 4,
 "nbformat_minor": 5
}
